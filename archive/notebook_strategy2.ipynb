{
 "cells": [
  {
   "cell_type": "markdown",
   "id": "f37213c1-4cf4-42fc-b1f3-ff688574b565",
   "metadata": {},
   "source": [
    "### Counting Cards\n",
    "\n",
    "| Cards thrown out | 2 | 3 | 4 | 5 | 6 | 7 | 8 | 9 | 10 | J | Q | K | A | \n",
    "| --- | --- | --- | --- | --- | --- | --- | --- | --- | --- | --- | --- | --- | --- |\n",
    "| Card Value | -1 |  -1 |  -1 |  -1 |  -1 | 0 | 0 | 0 | 1 | 1 | 1 | 1 | 1 |\n",
    "\n",
    "Calculate the effectiveness of counting cards to the winnings of playing Blackjack. Counting is a strategy in Blackjack where it determines the bet value the player have to make in order to maximise winnings. To calculate the $count$, it follows the table above. However, to calculate the $true\\_count$ is $\\frac{count}{n_{decks}}$. Hence, we have the following amount for the bets:\n",
    "\n",
    "$$bet = (true\\_count - 1) * bet\\_unit$$\n",
    "\n",
    "After knowing what to bet, use the following strategies to play around the cards on doing the actions (`HIT`, `STAND` or `DOUBLE`).\n",
    "\n",
    "<center>\n",
    "    <img src=\"images/HardTotals_Strategy.png\"/> <img src=\"images/SoftTotals_Strategy.png\"/>\n",
    "</center>"
   ]
  },
  {
   "cell_type": "code",
   "execution_count": 2,
   "id": "a4a0c77c-8121-483e-bf85-a98b10a0e70b",
   "metadata": {},
   "outputs": [],
   "source": [
    "from tqdm import tqdm\n",
    "import numpy as np\n",
    "import matplotlib.pyplot as plt"
   ]
  },
  {
   "cell_type": "code",
   "execution_count": 3,
   "id": "6060c920-a2f9-49b2-872a-4fd23a4c8077",
   "metadata": {},
   "outputs": [],
   "source": [
    "CARDS = ['A', '2', '3', '4', '5', '6', '7', '8', '9', '10', 'J', 'Q', 'K']\n",
    "VALUE = [[1, 11], 2, 3, 4, 5, 6, 7, 8, 9, 10, 10, 10, 10]\n",
    "CARDS_COUNT = [1, -1, -1, -1, -1, -1, 0, 0, 0, 1, 1, 1, 1]\n",
    "N_DECKS = 6\n",
    "N_CARD_EACH_DECK = 4\n",
    "START_NUM_CARDS = [N_DECKS * N_CARD_EACH_DECK] * len(CARDS)\n",
    "BET_UNIT = 5\n",
    "MIN_BETS = 0\n",
    "DECK_LIMIT = 4\n",
    "CARD_LIMIT = DECK_LIMIT * len(CARDS) * N_CARD_EACH_DECK\n",
    "PLOT_COLOR = '#4169e1'"
   ]
  },
  {
   "cell_type": "code",
   "execution_count": 4,
   "id": "76bb4c1f-089a-46aa-ab04-f9220f35f4f5",
   "metadata": {},
   "outputs": [],
   "source": [
    "class blackjack():\n",
    "    def __init__(self, num_cards, count, bet):\n",
    "        self.cards, self.bust = {'p': [], 'd': []}, {'p': False, 'd': False}\n",
    "        self.value = {'p': 0, 'd': 0}\n",
    "        self.num_cards, self.count = num_cards, count\n",
    "        self.pcd = 0\n",
    "        self.bet = bet\n",
    "        self.winner = ''\n",
    "    \n",
    "    def hit(self, target = 'p'):\n",
    "        assert target in ['p', 'd']\n",
    "        \n",
    "        prob = [num/sum(self.num_cards) for num in self.num_cards]\n",
    "        index = np.random.choice(len(CARDS), replace = True, p = prob)\n",
    "        value = VALUE[index]\n",
    "        self.num_cards[index] = self.num_cards[index] - 1\n",
    "        self.count = self.count + CARDS_COUNT[index]\n",
    "        if target == 'p': self.pcd += 1\n",
    "        \n",
    "        if len(self.cards[target]) == 0:\n",
    "            if type(value) == list: self.cards[target] = value.copy()\n",
    "            else: self.cards[target].append(value)\n",
    "        \n",
    "        else:\n",
    "            dealer_special = 1 if target == 'd' else 0\n",
    "            if type(value) == list:\n",
    "                self.cards[target] = [val1 + val2 for val1 in self.cards[target] for val2 in value if val1 + val2 <= 21 + dealer_special]\n",
    "                if len(self.cards[target]) == 0: self.bust[target] = True\n",
    "                \n",
    "            else:\n",
    "                self.cards[target] = [val1 + value for val1 in self.cards[target] if val1 + value <= 21 + dealer_special]\n",
    "                if len(self.cards[target]) == 0: self.bust[target] = True\n",
    "        \n",
    "        self.value[target] = 0 if self.bust[target] else np.max(self.cards[target])\n",
    "    \n",
    "    def run_dealer_cards(self):\n",
    "        while self.value['d'] <= 16: \n",
    "            self.hit('d')\n",
    "            if self.bust['d']: break\n",
    "    \n",
    "    def start(self):\n",
    "        new_game.hit('p')\n",
    "        new_game.hit('d')\n",
    "        new_game.hit('p')\n",
    "    \n",
    "    def double(self):\n",
    "        self.bet = self.bet * 2\n",
    "        self.hit('p')\n",
    "        \n",
    "    def find_winners(self):\n",
    "        if self.value['p'] == 21 and len(self.cards['p']) == 2:\n",
    "            self.bet = self.bet * 1.5\n",
    "            self.winner = 'p'\n",
    "        elif self.bust['p'] or self.value['p'] < self.value['d']: \n",
    "            self.winner = 'd'\n",
    "            self.bet = -self.bet\n",
    "        elif self.bust['d'] or self.value['p'] > self.value['d'] or self.pcd >= 5: self.winner = 'p'\n",
    "        elif (self.value['d'] == 22 or self.value['p'] == self.value['d']) and not self.bust['p']: \n",
    "            self.winner = 'none'\n",
    "            self.bet = 0"
   ]
  },
  {
   "cell_type": "code",
   "execution_count": 5,
   "id": "39701af8-c758-4413-8427-229ed213e9e7",
   "metadata": {},
   "outputs": [
    {
     "name": "stderr",
     "output_type": "stream",
     "text": [
      "100%|█████████████████████████████████████████████████████████████████████████| 25000/25000 [00:01<00:00, 13002.21it/s]\n"
     ]
    }
   ],
   "source": [
    "## Playing alone with dealer\n",
    "n_sim = 25000\n",
    "sim_r = []\n",
    "sim_p = []\n",
    "sim_d = []\n",
    "\n",
    "num_cards = START_NUM_CARDS.copy()\n",
    "count = 0\n",
    "running_count = []\n",
    "\n",
    "for sim in tqdm(range(n_sim)):\n",
    "    if sum(num_cards) < CARD_LIMIT:\n",
    "        num_cards = START_NUM_CARDS.copy()\n",
    "    \n",
    "    true_count = count / N_DECKS\n",
    "    bet_value  = (true_count - 1) * BET_UNIT\n",
    "    \n",
    "    if bet_value < MIN_BETS:\n",
    "        new_game = blackjack(num_cards, count, 0)\n",
    "        new_game.run_dealer_cards()\n",
    "        num_cards, count = new_game.num_cards, new_game.count\n",
    "        sim_r.append(0)\n",
    "        sim_p.append(-1)\n",
    "        sim_d.append(new_game.value['d'])\n",
    "        \n",
    "    else:\n",
    "        new_game = blackjack(num_cards, count, bet_value)\n",
    "        new_game.start()\n",
    "        \n",
    "        while new_game.value['p'] < 21:\n",
    "            \n",
    "            if new_game.bust['p']: break\n",
    "            \n",
    "            if len(new_game.cards['p']) == 2:\n",
    "                \n",
    "                if new_game.value['p'] == 20: break\n",
    "                \n",
    "                elif new_game.value['p'] == 19:\n",
    "                    if new_game.value['d'] == 6: new_game.double()\n",
    "                    else: break\n",
    "                \n",
    "                elif new_game.value['p'] == 18:\n",
    "                    if new_game.value['d'] <= 6:  new_game.double()\n",
    "                    else: break\n",
    "                \n",
    "                elif new_game.value['p'] == 17:\n",
    "                    if new_game.value['d'] <= 6 and new_game.value['d'] >= 3: new_game.double()\n",
    "                    else: break\n",
    "            \n",
    "                elif new_game.value['p'] == 16 or new_game.value['p'] == 15:\n",
    "                    if new_game.value['d'] <= 6 and new_game.value['d'] >= 4: new_game.double()\n",
    "                    else: break\n",
    "                    \n",
    "                elif new_game.value['p'] == 14 or new_game.value['p'] == 13:\n",
    "                    if new_game.value['d'] <= 6 and new_game.value['d'] >= 5: new_game.double()\n",
    "                    else: break\n",
    "                    \n",
    "                elif new_game.value['p'] == 12:\n",
    "                    if new_game.value['d'] <= 6 and new_game.value['d'] >= 4: break\n",
    "                    else: new_game.hit()\n",
    "    \n",
    "            else:\n",
    "                \n",
    "                if new_game.value['p'] >= 17: break\n",
    "                if new_game.value['p'] == 11: new_game.double()\n",
    "                \n",
    "                if new_game.value['p'] <= 16 and new_game.value['p'] >= 13:\n",
    "                    if new_game.value['d'] <= 6: break\n",
    "                    else: new_game.hit()\n",
    "                \n",
    "                if new_game.value['p'] == 12:\n",
    "                    if new_game.value['d'] <= 6 and new_game.value['d'] >= 4: break\n",
    "                    else: new_game.hit()\n",
    "                \n",
    "                if new_game.value['p'] == 10:\n",
    "                    if new_game.value['d'] <= 9: new_game.double()\n",
    "                    else: new_game.hit()\n",
    "                \n",
    "                if new_game.value['p'] == 9:\n",
    "                    if new_game.value['d'] <= 6 and new_game.value['d'] >= 3: new_game.double()\n",
    "                    else: new_game.hit()\n",
    "                \n",
    "                else: new_game.hit()\n",
    "        \n",
    "        new_game.run_dealer_cards()\n",
    "        new_game.find_winners()\n",
    "        num_cards, count = new_game.num_cards, new_game.count\n",
    "        sim_r.append(new_game.bet)\n",
    "        sim_p.append(new_game.value['p'])\n",
    "        sim_d.append(new_game.value['d'])\n",
    "    \n",
    "    running_count.append(count)"
   ]
  },
  {
   "cell_type": "code",
   "execution_count": 6,
   "id": "949ca401-a8e0-450e-9843-68b43b988dea",
   "metadata": {},
   "outputs": [
    {
     "name": "stdout",
     "output_type": "stream",
     "text": [
      "Bust: 0.2048780487804878,  Stand-off: 0.17317073170731706, High: 0.45365853658536587, Blackjack: 0.13170731707317074, Probability of Dealer to Win: 0.5829268292682926\n"
     ]
    }
   ],
   "source": [
    "## What is the probability of dealer to bust\n",
    "p_bust_d = sum([val == 0 for pval, val in zip(sim_p, sim_d) if pval >= 0])/len([p for p in sim_p if p >= 0])\n",
    "\n",
    "## What is the probability of dealer to standoffs\n",
    "p_stof = sum([val == 0 for pval, val in zip(sim_p, sim_r) if pval >= 0])/len([p for p in sim_p if p >= 0])\n",
    "\n",
    "## Probability of dealer having high cards (18 19 20)\n",
    "p_high_d = (sum([val < 21 for pval, val in zip(sim_p, sim_d) if pval >= 0]) - sum([val < 18 for pval, val in zip(sim_p, sim_d) if pval >= 0]))/len([p for p in sim_p if p >= 0])\n",
    "\n",
    "## Probability of dealer having blackjack\n",
    "p_bljk_d = sum([val == 21 for pval, val in zip(sim_p, sim_d) if pval >= 0])/len([p for p in sim_p if p >= 0])\n",
    "\n",
    "## Probability of dealer wins\n",
    "p_win_d  = sum([val < 0 for pval, val in zip(sim_p, sim_r) if pval >= 0])/len([p for p in sim_p if p >= 0])\n",
    "\n",
    "print(f\"Bust: {p_bust_d},  Stand-off: {p_stof}, High: {p_high_d}, Blackjack: {p_bljk_d}, Probability of Dealer to Win: {p_win_d}\")"
   ]
  },
  {
   "cell_type": "code",
   "execution_count": 7,
   "id": "e4a3ef25-ffa8-4d28-9546-361391167841",
   "metadata": {},
   "outputs": [
    {
     "name": "stdout",
     "output_type": "stream",
     "text": [
      "Bust: 0.3439024390243902, High: 0.5926829268292683, Blackjack: 0.05365853658536585, Probability of Player to Win: 0.24390243902439024\n"
     ]
    }
   ],
   "source": [
    "## What is the probability of player to bust\n",
    "p_bust_p = sum([val == 0 for pval, val in zip(sim_p, sim_p) if pval >= 0])/len([p for p in sim_p if p >= 0])\n",
    "\n",
    "## Probability of player having high cards (18 19 20)\n",
    "p_high_p = (sum([val < 21 for pval, val in zip(sim_p, sim_p) if pval >= 0]) - sum([val < 18 for pval, val in zip(sim_p, sim_d) if pval >= 0]))/len([p for p in sim_p if p >= 0])\n",
    "\n",
    "## Probability of player having blackjack\n",
    "p_bljk_p = sum([val == 21 for pval, val in zip(sim_p, sim_p) if pval >= 0])/len([p for p in sim_p if p >= 0])\n",
    "\n",
    "## Probability of player wins\n",
    "p_win_p  = sum([val > 0 for pval, val in zip(sim_p, sim_r) if pval >= 0])/len([p for p in sim_p if p >= 0])\n",
    "\n",
    "print(f\"Bust: {p_bust_p}, High: {p_high_p}, Blackjack: {p_bljk_p}, Probability of Player to Win: {p_win_p}\")"
   ]
  },
  {
   "cell_type": "code",
   "execution_count": 8,
   "id": "f21307e8-95a0-4e42-abbc-c1240c479caf",
   "metadata": {},
   "outputs": [
    {
     "data": {
      "image/png": "[encoded data removed]",
      "text/plain": [
       "<Figure size 1872x288 with 4 Axes>"
      ]
     },
     "metadata": {
      "needs_background": "light"
     },
     "output_type": "display_data"
    }
   ],
   "source": [
    "labels = 'Player', 'Dealer', 'Standoff'\n",
    "sizes = [p_win_p, p_win_d, p_stof]\n",
    "explode = (0, 0, 0.1)\n",
    "n_possible_player_values = len(set([p for p in sim_p if p > 0])) + 1\n",
    "n_possible_dealer_values = len(set([p for p in sim_d if p > 0])) + 1\n",
    "\n",
    "fig, ax = plt.subplots(1, 4, figsize = (26, 4))\n",
    "ax[0].hist(x = [p for p in sim_d if p > 0], bins = np.arange(n_possible_dealer_values) + 17 - 0.5, color = PLOT_COLOR,\n",
    "                            alpha=0.7, rwidth=0.85, density = True)\n",
    "ax[0].grid(axis='y', alpha=0.75)\n",
    "ax[0].set_xticks(np.arange(n_possible_dealer_values) + 17)\n",
    "ax[0].set_title(\"Probability density function of dealer's hand\")\n",
    "\n",
    "ax[1].hist(x = [p for p in sim_p if p > 0], bins = np.arange(n_possible_player_values) + 12 - 0.5, color = PLOT_COLOR,\n",
    "                            alpha=0.7, rwidth=0.85, density = True)\n",
    "ax[1].grid(axis='y', alpha=0.75)\n",
    "ax[1].set_xticks(np.arange(n_possible_player_values) + 12)\n",
    "ax[1].set_title(\"Probability density function of player's hand\")\n",
    "\n",
    "ax[2].plot(np.cumsum(sim_r), color = PLOT_COLOR)\n",
    "ax[2].set_title(\"Running total of the player's winnings\")\n",
    "\n",
    "ax[3].pie(sizes, explode=explode, labels=labels, autopct='%1.1f%%', startangle=90)\n",
    "ax[3].axis('equal')\n",
    "plt.show()"
   ]
  }
 ],
 "metadata": {
  "kernelspec": {
   "display_name": "Python 3 (ipykernel)",
   "language": "python",
   "name": "python3"
  },
  "language_info": {
   "codemirror_mode": {
    "name": "ipython",
    "version": 3
   },
   "file_extension": ".py",
   "mimetype": "text/x-python",
   "name": "python",
   "nbconvert_exporter": "python",
   "pygments_lexer": "ipython3",
   "version": "3.9.6"
  }
 },
 "nbformat": 4,
 "nbformat_minor": 5
}
