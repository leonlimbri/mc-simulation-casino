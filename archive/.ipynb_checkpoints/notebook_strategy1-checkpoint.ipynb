{
 "cells": [
  {
   "cell_type": "markdown",
   "id": "63cae964-8925-4072-bdfe-673791486a83",
   "metadata": {
    "tags": []
   },
   "source": [
    "## Monte Carlo Simulation for Casino Blackjack\n",
    "This simulation is intended to build the probabilistic model of winning a casino blackjack given that we are using the following strategies:\n",
    "```\n",
    "if total_cards == 11:\n",
    "    double\n",
    "\n",
    "while total_cards < 10:\n",
    "    hit\n",
    "\n",
    "while total_cards <= 21:\n",
    "    if dealer_card <= 6 or dealer_card < total_cards - 10 or total_cards > 16:\n",
    "        stand\n",
    "    else:\n",
    "        hit\n",
    "```"
   ]
  },
  {
   "cell_type": "code",
   "execution_count": 1,
   "id": "3b4159e1-448d-4027-ae30-86c67eb49520",
   "metadata": {},
   "outputs": [],
   "source": [
    "from tqdm import tqdm\n",
    "import numpy as np\n",
    "import matplotlib.pyplot as plt"
   ]
  },
  {
   "cell_type": "code",
   "execution_count": 2,
   "id": "4c60b51c-0990-4ff6-8902-10897a7c464f",
   "metadata": {},
   "outputs": [],
   "source": [
    "CARDS = ['A', '2', '3', '4', '5', '6', '7', '8', '9', '10', 'J', 'Q', 'K']\n",
    "VALUE = [[1, 11], 2, 3, 4, 5, 6, 7, 8, 9, 10, 10, 10, 10]\n",
    "N_DECKS = 6\n",
    "N_CARD_EACH_DECK = 4\n",
    "START_COUNT = [N_DECKS * N_CARD_EACH_DECK] * len(CARDS)\n",
    "PLOT_COLOR = '#4169e1'\n",
    "MIN_BET = 15"
   ]
  },
  {
   "cell_type": "code",
   "execution_count": 3,
   "id": "bf6a248d-2151-4987-bbec-13818d129282",
   "metadata": {},
   "outputs": [],
   "source": [
    "def draw_a_card(count, total):\n",
    "    '''\n",
    "        function to simulate drawing of a card, which going to reduce\n",
    "        the pool of the card drawn and add the total to the current possible totals.\n",
    "        \n",
    "        Parameters\n",
    "        ----------\n",
    "        count: list\n",
    "            A list of the running count of each card\n",
    "        total: int\n",
    "            The total running sum of the palyer/dealer\n",
    "            \n",
    "        Output\n",
    "        ------\n",
    "            total_sum, updated_count\n",
    "    '''\n",
    "    \n",
    "    prob = [x/sum(count) for x in count]\n",
    "    index = np.random.choice(len(CARDS), replace = True, p = prob)\n",
    "    value = VALUE[index]\n",
    "    updated_count = count.copy()\n",
    "    updated_count[index] = updated_count[index] - 1\n",
    "    \n",
    "    if type(total) == list:\n",
    "        if index == 0:\n",
    "            total_sum = [val1 + val2 for val1 in total for val2 in value]\n",
    "        else:\n",
    "            total_sum = [val1 + value for val1 in total]\n",
    "    else:\n",
    "        if index == 0:\n",
    "            total_sum = [total + val2 for val2 in value]\n",
    "        else:\n",
    "            total_sum = total + value\n",
    "\n",
    "    return total_sum, updated_count"
   ]
  },
  {
   "cell_type": "markdown",
   "id": "00299c0e-96e2-4991-8664-024931041452",
   "metadata": {},
   "source": [
    "### Dealer Probability Distribution\n",
    "First part of what we interest the most is what is the probability distribution of the dealer's hand? what are the chances that the dealer bust based on the standard strategy of hit on soft-16 and having 22 to be a stand-off. "
   ]
  },
  {
   "cell_type": "code",
   "execution_count": 4,
   "id": "1edd95dc-361f-4385-8710-b95f0911aa54",
   "metadata": {},
   "outputs": [],
   "source": [
    "def draw_a_card(count, total):\n",
    "    prob = [x/sum(count) for x in count]\n",
    "    index = np.random.choice(len(CARDS), replace = True, p = prob)\n",
    "    value = VALUE[index]\n",
    "    updated_count = count.copy()\n",
    "    updated_count[index] = updated_count[index] - 1\n",
    "    \n",
    "    if type(total) == list:\n",
    "        if index == 0:\n",
    "            total_sum = [val1 + val2 for val1 in total for val2 in value]\n",
    "        else:\n",
    "            total_sum = [val1 + value for val1 in total]\n",
    "    else:\n",
    "        if index == 0:\n",
    "            total_sum = [total + val2 for val2 in value]\n",
    "        else:\n",
    "            total_sum = total + value\n",
    "\n",
    "    return total_sum, updated_count"
   ]
  },
  {
   "cell_type": "code",
   "execution_count": 5,
   "id": "5c480978-fb17-4f0d-a0e8-1d86726f7ce4",
   "metadata": {},
   "outputs": [],
   "source": [
    "## Dealer distribution of result\n",
    "n_sim = 25000\n",
    "sim_r = []\n",
    "\n",
    "count = START_COUNT.copy()\n",
    "for i in range(n_sim):\n",
    "    if sum(count) < 260: \n",
    "        count = START_COUNT.copy() # If a total of a deck has been used, it is reshuffled again\n",
    "    \n",
    "    total_sum, count = draw_a_card(count, 0)\n",
    "    \n",
    "    while np.max(total_sum) <= 16:\n",
    "        total_sum, count = draw_a_card(count, total_sum)\n",
    "    \n",
    "    sim_r.append(np.max(total_sum))"
   ]
  },
  {
   "cell_type": "code",
   "execution_count": 6,
   "id": "b2ddd6a6-f8f2-4674-8528-303fcf198730",
   "metadata": {},
   "outputs": [
    {
     "name": "stdout",
     "output_type": "stream",
     "text": [
      "Bust: 0.24676,  Stand-off: 0.07816, High: 0.4328, Blackjack: 0.11136\n"
     ]
    }
   ],
   "source": [
    "## What is the probability of dealer to bust\n",
    "p_bust = sum([val > 22 for val in sim_r])/n_sim\n",
    "\n",
    "## What is the probability of dealer to standoffs\n",
    "p_stof = sum([val == 22 for val in sim_r])/n_sim\n",
    "\n",
    "## Probability of dealer having high cards (18 19 20)\n",
    "p_high = (sum([val < 21 for val in sim_r]) - sum([val < 18 for val in sim_r]))/n_sim\n",
    "\n",
    "## Probability of dealer having blackjack\n",
    "p_bljk = sum([val == 21 for val in sim_r])/n_sim\n",
    "\n",
    "print(f\"Bust: {p_bust},  Stand-off: {p_stof}, High: {p_high}, Blackjack: {p_bljk}\")"
   ]
  },
  {
   "cell_type": "markdown",
   "id": "3e0194b5-e82f-4b12-90c5-d05eb623d8f8",
   "metadata": {},
   "source": [
    "However, these probabilities are assuming that the dealers are playing by themselves, as the probability is changed every single cards were drawn, when playing with another player, the probability should've changed but not in substantial amount. The probability density can be illustrated as follows."
   ]
  },
  {
   "cell_type": "code",
   "execution_count": 7,
   "id": "c0c0b00b-18db-4761-be58-820291094a96",
   "metadata": {},
   "outputs": [
    {
     "data": {
      "image/png": "[encoded data removed]",
      "text/plain": [
       "<Figure size 432x288 with 1 Axes>"
      ]
     },
     "metadata": {
      "needs_background": "light"
     },
     "output_type": "display_data"
    }
   ],
   "source": [
    "n_possible_values = len(set(sim_r)) + 1\n",
    "\n",
    "n, bins, patches = plt.hist(x = sim_r, bins = np.arange(n_possible_values) + min(sim_r) - 0.5, color = PLOT_COLOR,\n",
    "                            alpha=0.7, rwidth=0.85, density = True)\n",
    "plt.grid(axis='y', alpha=0.75)\n",
    "plt.xticks(np.arange(n_possible_values) + min(sim_r))\n",
    "plt.title(\"Probability density function of dealer's hand\")\n",
    "plt.show()"
   ]
  },
  {
   "cell_type": "code",
   "execution_count": 8,
   "id": "dc8efd62-1aee-4881-b8de-b25964b6e7bc",
   "metadata": {},
   "outputs": [
    {
     "name": "stderr",
     "output_type": "stream",
     "text": [
      "100%|██████████████████████████████████████████████████████████████████████████| 25000/25000 [00:03<00:00, 6308.82it/s]\n"
     ]
    }
   ],
   "source": [
    "## Playing alone with dealer\n",
    "n_sim = 25000\n",
    "sim_r = []\n",
    "sim_p = []\n",
    "sim_d = []\n",
    "\n",
    "count = START_COUNT.copy()\n",
    "for i in tqdm(range(n_sim)):\n",
    "    if sum(count) < 260: \n",
    "        count = START_COUNT.copy() # If a total of a deck has been used, it is reshuffled again\n",
    "    \n",
    "    bet_value = MIN_BET\n",
    "    \n",
    "    player_total_sum, count = draw_a_card(count, 0)\n",
    "    dealer_total_sum, count = draw_a_card(count, 0)\n",
    "    player_total_sum, count = draw_a_card(count, player_total_sum)\n",
    "    \n",
    "    card_drawn = 2\n",
    "    \n",
    "    if np.max(player_total_sum) == 11:\n",
    "        player_total_sum, count = draw_a_card(count, player_total_sum)\n",
    "        card_drawn += 1\n",
    "        bet_value += MIN_BET\n",
    "    else:\n",
    "        while np.max(player_total_sum) <= 10:\n",
    "            player_total_sum, count = draw_a_card(count, player_total_sum)\n",
    "            card_drawn += 1\n",
    "\n",
    "        while np.max(player_total_sum) < 14:\n",
    "            if np.max(dealer_total_sum) <= 6 or np.max(dealer_total_sum) <= np.max(player_total_sum) - 10:\n",
    "                break\n",
    "            else:\n",
    "                player_total_sum, count = draw_a_card(count, player_total_sum)\n",
    "                card_drawn += 1\n",
    "    \n",
    "    while np.max(dealer_total_sum) <= 16:\n",
    "        dealer_total_sum, count = draw_a_card(count, dealer_total_sum)\n",
    "    \n",
    "    if card_drawn >= 5 or np.max(player_total_sum) == 21:\n",
    "        sim_r.append(bet_value)\n",
    "    elif np.max(player_total_sum) > 21:\n",
    "        sim_r.append(-bet_value)\n",
    "    elif np.max(dealer_total_sum) > 21:\n",
    "        sim_r.append(bet_value)\n",
    "    elif np.max(dealer_total_sum) == 22:\n",
    "        sim_r.append(0)\n",
    "    else:\n",
    "        sim_r.append(np.sign(np.max(player_total_sum) - np.max(dealer_total_sum)) * bet_value)\n",
    "        \n",
    "    sim_p.append(np.max(player_total_sum))\n",
    "    sim_d.append(np.max(dealer_total_sum))"
   ]
  },
  {
   "cell_type": "code",
   "execution_count": 9,
   "id": "a93d5385-6328-44c5-8ca7-1e05da71a5ae",
   "metadata": {},
   "outputs": [
    {
     "name": "stdout",
     "output_type": "stream",
     "text": [
      "Bust: 0.24772,  Stand-off: 0.0802, High: 0.4284, Blackjack: 0.11524, Probability of Dealer to Win: 0.48088\n"
     ]
    }
   ],
   "source": [
    "## What is the probability of dealer to bust\n",
    "p_bust_d = sum([val > 22 for val in sim_d])/n_sim\n",
    "\n",
    "## What is the probability of dealer to standoffs\n",
    "p_stof = sum([val == 22 for val in sim_d])/n_sim\n",
    "\n",
    "## Probability of dealer having high cards (18 19 20)\n",
    "p_high_d = (sum([val < 21 for val in sim_d]) - sum([val < 18 for val in sim_d]))/n_sim\n",
    "\n",
    "## Probability of dealer having blackjack\n",
    "p_bljk_d = sum([val == 21 for val in sim_d])/n_sim\n",
    "\n",
    "## Probability of dealer wins\n",
    "p_win_d  = sum([val < 0 for val in sim_r])/n_sim\n",
    "\n",
    "print(f\"Bust: {p_bust_d},  Stand-off: {p_stof}, High: {p_high_d}, Blackjack: {p_bljk_d}, Probability of Dealer to Win: {p_win_d}\")"
   ]
  },
  {
   "cell_type": "code",
   "execution_count": 10,
   "id": "bf968c7f-22f2-4c0f-bbd8-72da3c28d577",
   "metadata": {},
   "outputs": [
    {
     "name": "stdout",
     "output_type": "stream",
     "text": [
      "Bust: 0.02972, High: 0.3226, Blackjack: 0.07884, Probability of Player to Win: 0.45656\n"
     ]
    }
   ],
   "source": [
    "## What is the probability of player to bust\n",
    "p_bust_p = sum([val > 22 for val in sim_p])/n_sim\n",
    "\n",
    "## Probability of player having high cards (18 19 20)\n",
    "p_high_p = (sum([val < 21 for val in sim_p]) - sum([val < 18 for val in sim_p]))/n_sim\n",
    "\n",
    "## Probability of player having blackjack\n",
    "p_bljk_p = sum([val == 21 for val in sim_p])/n_sim\n",
    "\n",
    "## Probability of player wins\n",
    "p_win_p  = sum([val > 0 for val in sim_r])/n_sim\n",
    "\n",
    "print(f\"Bust: {p_bust_p}, High: {p_high_p}, Blackjack: {p_bljk_p}, Probability of Player to Win: {p_win_p}\")"
   ]
  },
  {
   "cell_type": "markdown",
   "id": "70f326a0-d741-4996-bba6-8f7cdb3d5e4b",
   "metadata": {},
   "source": [
    "It is remarkable to see that the probability of player to win is significantly different to dealer's (by around 3% differences), which indicates that this strategy is a losing-game for the player. The following shows the probability density function for the values of both player and dealer as well as the running total of the player's winnings."
   ]
  },
  {
   "cell_type": "code",
   "execution_count": 11,
   "id": "414c464a-e76b-4314-8295-8a60eaf04a97",
   "metadata": {},
   "outputs": [
    {
     "data": {
      "image/png": "[encoded data removed]",
      "text/plain": [
       "<Figure size 1872x288 with 4 Axes>"
      ]
     },
     "metadata": {
      "needs_background": "light"
     },
     "output_type": "display_data"
    }
   ],
   "source": [
    "labels = 'Player', 'Dealer', 'Standoff'\n",
    "sizes = [p_win_p, p_win_d, p_stof]\n",
    "explode = (0, 0, 0.1)\n",
    "n_possible_player_values = len(set(sim_p)) + 1\n",
    "n_possible_dealer_values = len(set(sim_d)) + 1\n",
    "\n",
    "fig, ax = plt.subplots(1, 4, figsize = (26, 4))\n",
    "ax[0].hist(x = sim_d, bins = np.arange(n_possible_dealer_values) + min(sim_d) - 0.5, color = PLOT_COLOR,\n",
    "                            alpha=0.7, rwidth=0.85, density = True)\n",
    "ax[0].grid(axis='y', alpha=0.75)\n",
    "ax[0].set_xticks(np.arange(n_possible_dealer_values) + min(sim_d))\n",
    "ax[0].set_title(\"Probability density function of dealer's hand\")\n",
    "\n",
    "ax[1].hist(x = sim_p, bins = np.arange(n_possible_player_values) + min(sim_p) - 0.5, color = PLOT_COLOR,\n",
    "                            alpha=0.7, rwidth=0.85, density = True)\n",
    "ax[1].grid(axis='y', alpha=0.75)\n",
    "ax[1].set_xticks(np.arange(n_possible_player_values) + min(sim_p))\n",
    "ax[1].set_title(\"Probability density function of player's hand\")\n",
    "\n",
    "ax[2].plot(np.cumsum(sim_r), color = PLOT_COLOR)\n",
    "ax[2].set_title(\"Running total of the player's winnings\")\n",
    "\n",
    "ax[3].pie(sizes, explode=explode, labels=labels, autopct='%1.1f%%', startangle=90)\n",
    "ax[3].axis('equal')\n",
    "plt.show()"
   ]
  }
 ],
 "metadata": {
  "kernelspec": {
   "display_name": "Python 3 (ipykernel)",
   "language": "python",
   "name": "python3"
  },
  "language_info": {
   "codemirror_mode": {
    "name": "ipython",
    "version": 3
   },
   "file_extension": ".py",
   "mimetype": "text/x-python",
   "name": "python",
   "nbconvert_exporter": "python",
   "pygments_lexer": "ipython3",
   "version": "3.9.6"
  }
 },
 "nbformat": 4,
 "nbformat_minor": 5
}
